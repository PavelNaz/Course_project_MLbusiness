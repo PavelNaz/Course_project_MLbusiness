{
 "cells": [
  {
   "cell_type": "code",
   "execution_count": 3,
   "metadata": {},
   "outputs": [],
   "source": [
    "# USAGE\n",
    "# Start the server:\n",
    "# python run_server.py\n",
    "# Submit a request via cURL:\n",
    "# curl -X POST -F image=@dog.jpg 'http://localhost:5000/predict'\n",
    "# Submita a request via Python:\n",
    "# python simple_request.py\n",
    "\n",
    "# import the necessary packages\n",
    "import numpy as np\n",
    "import dill\n",
    "import pandas as pd\n",
    "dill._dill._reverse_typemap['ClassType'] = type\n",
    "#import cloudpickle\n",
    "import flask"
   ]
  },
  {
   "cell_type": "code",
   "execution_count": 5,
   "metadata": {},
   "outputs": [
    {
     "name": "stdout",
     "output_type": "stream",
     "text": [
      "Pipeline(steps=[('features',\n",
      "                 FeatureUnion(transformer_list=[('title',\n",
      "                                                 Pipeline(steps=[('imputer',\n",
      "                                                                  TextImputer(key='title',\n",
      "                                                                              value='')),\n",
      "                                                                 ('selector',\n",
      "                                                                  ColumnSelector(key='title')),\n",
      "                                                                 ('tfidf',\n",
      "                                                                  TfidfVectorizer(max_df=0.9,\n",
      "                                                                                  min_df=10))])),\n",
      "                                                ('text',\n",
      "                                                 Pipeline(steps=[('imputer',\n",
      "                                                                  TextImputer(key='text',\n",
      "                                                                              value='')),\n",
      "                                                                 ('selector',\n",
      "                                                                  ColumnSelector(key='text')),\n",
      "                                                                 ('tfidf',\n",
      "                                                                  TfidfVectorizer(max_df=0.9,\n",
      "                                                                                  min_df=10))]))])),\n",
      "                ('classifier', LogisticRegression())])\n",
      "* Loading the model and Flask starting server...please wait until server has fully started\n",
      " * Serving Flask app \"__main__\" (lazy loading)\n",
      " * Environment: production\n",
      "   WARNING: This is a development server. Do not use it in a production deployment.\n",
      "   Use a production WSGI server instead.\n",
      " * Debug mode: on\n"
     ]
    },
    {
     "name": "stderr",
     "output_type": "stream",
     "text": [
      " * Restarting with windowsapi reloader\n"
     ]
    },
    {
     "ename": "SystemExit",
     "evalue": "1",
     "output_type": "error",
     "traceback": [
      "An exception has occurred, use %tb to see the full traceback.\n",
      "\u001b[1;31mSystemExit\u001b[0m\u001b[1;31m:\u001b[0m 1\n"
     ]
    },
    {
     "name": "stderr",
     "output_type": "stream",
     "text": [
      "D:\\anaconda3\\lib\\site-packages\\IPython\\core\\interactiveshell.py:3426: UserWarning: To exit: use 'exit', 'quit', or Ctrl-D.\n",
      "  warn(\"To exit: use 'exit', 'quit', or Ctrl-D.\", stacklevel=1)\n"
     ]
    }
   ],
   "source": [
    "# import the necessary packages\n",
    "import dill\n",
    "import pandas as pd\n",
    "import os\n",
    "dill._dill._reverse_typemap['ClassType'] = type\n",
    "#import cloudpickle\n",
    "import flask\n",
    "import logging\n",
    "from logging.handlers import RotatingFileHandler\n",
    "from time import strftime\n",
    "\n",
    "# initialize our Flask application and the model\n",
    "app = flask.Flask(__name__)\n",
    "model = None\n",
    "\n",
    "handler = RotatingFileHandler(filename='app.log', maxBytes=100000, backupCount=10)\n",
    "logger = logging.getLogger(__name__)\n",
    "logger.setLevel(logging.INFO)\n",
    "logger.addHandler(handler)\n",
    "\n",
    "def load_model(model_path):\n",
    "\t# load the pre-trained model\n",
    "\tglobal model\n",
    "\twith open(model_path, 'rb') as f:\n",
    "\t\tmodel = dill.load(f)\n",
    "\tprint(model)\n",
    "\n",
    "modelpath = \"/Users/4а/MLbusiness/course_project/logreg_pipeline.dill\"\n",
    "load_model(modelpath)\n",
    "\n",
    "@app.route(\"/\", methods=[\"GET\"])\n",
    "def general():\n",
    "\treturn \"\"\"Welcome to label prediction process. Please use 'http://<address>/predict' to POST\"\"\"\n",
    "\n",
    "@app.route(\"/predict\", methods=[\"POST\"])\n",
    "def predict():\n",
    "\t# initialize the data dictionary that will be returned from the\n",
    "\t# view\n",
    "\tdata = {\"success\": False}\n",
    "\tdt = strftime(\"[%Y-%b-%d %H:%M:%S]\")\n",
    "\t# ensure an image was properly uploaded to our endpoint\n",
    "\tif flask.request.method == \"POST\":\n",
    "\n",
    "\t\ttitle, text = \"\", \"\"\n",
    "\t\trequest_json = flask.request.get_json()\n",
    "\t\tif request_json[\"title\"]:\n",
    "\t\t\ttitle = request_json['title']\n",
    "\n",
    "\t\tif request_json[\"text\"]:\n",
    "\t\t\ttext = request_json['text']\n",
    "\n",
    "\t\tlogger.info(f'{dt} Data: title={title}, text={text}')\n",
    "\t\ttry:\n",
    "\t\t\tpreds = model.predict_proba(pd.DataFrame({\"title\": [title],\n",
    "\t\t\t\t\t\t\t\t\t\t\t\t  \"text\": [text]}))\n",
    "\t\texcept AttributeError as e:\n",
    "\t\t\tlogger.warning(f'{dt} Exception: {str(e)}')\n",
    "\t\t\tdata['predictions'] = str(e)\n",
    "\t\t\tdata['success'] = False\n",
    "\t\t\treturn flask.jsonify(data)\n",
    "\n",
    "\t\tdata[\"predictions\"] = preds[:, 1][0]\n",
    "\t\t# indicate that the request was a success\n",
    "\t\tdata[\"success\"] = True\n",
    "\n",
    "\t# return the data dictionary as a JSON response\n",
    "\treturn flask.jsonify(data)\n",
    "\n",
    "# if this is the main thread of execution first load the model and\n",
    "# then start the server\n",
    "if __name__ == \"__main__\":\n",
    "\tprint((\"* Loading the model and Flask starting server...\"\n",
    "\t\t\"please wait until server has fully started\"))\n",
    "\tport = int(os.environ.get('PORT', 8180))\n",
    "\tapp.run(host='0.0.0.0', debug=True, port=port)"
   ]
  },
  {
   "cell_type": "code",
   "execution_count": null,
   "metadata": {},
   "outputs": [],
   "source": []
  }
 ],
 "metadata": {
  "kernelspec": {
   "display_name": "Python 3",
   "language": "python",
   "name": "python3"
  },
  "language_info": {
   "codemirror_mode": {
    "name": "ipython",
    "version": 3
   },
   "file_extension": ".py",
   "mimetype": "text/x-python",
   "name": "python",
   "nbconvert_exporter": "python",
   "pygments_lexer": "ipython3",
   "version": "3.8.5"
  }
 },
 "nbformat": 4,
 "nbformat_minor": 4
}
